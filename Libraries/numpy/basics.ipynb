{
 "cells": [
  {
   "cell_type": "markdown",
   "id": "59ba2cf4",
   "metadata": {},
   "source": [
    "## Numpy"
   ]
  },
  {
   "cell_type": "markdown",
   "id": "bf7ce296",
   "metadata": {},
   "source": [
    "Numpy is a library for python that is used for working with arrays."
   ]
  },
  {
   "cell_type": "code",
   "execution_count": 44,
   "id": "a37138f7",
   "metadata": {},
   "outputs": [],
   "source": [
    "# import numpy\n",
    "\n",
    "import numpy as np"
   ]
  },
  {
   "cell_type": "code",
   "execution_count": 45,
   "id": "d39cc752",
   "metadata": {},
   "outputs": [
    {
     "name": "stdout",
     "output_type": "stream",
     "text": [
      "[1 2 3 4 5]\n"
     ]
    }
   ],
   "source": [
    "my_list = [1, 2, 3, 4, 5]\n",
    "\n",
    "arr = np.array(my_list)\n",
    "print(arr)"
   ]
  },
  {
   "cell_type": "code",
   "execution_count": 46,
   "id": "8a9771bf",
   "metadata": {},
   "outputs": [
    {
     "data": {
      "text/plain": [
       "numpy.ndarray"
      ]
     },
     "execution_count": 46,
     "metadata": {},
     "output_type": "execute_result"
    }
   ],
   "source": [
    "type(arr) # returns a numpy array"
   ]
  },
  {
   "cell_type": "code",
   "execution_count": 47,
   "id": "388f52d2",
   "metadata": {},
   "outputs": [
    {
     "data": {
      "text/plain": [
       "array([1, 2, 3, 4, 5])"
      ]
     },
     "execution_count": 47,
     "metadata": {},
     "output_type": "execute_result"
    }
   ],
   "source": [
    "arr # one dimentional array"
   ]
  },
  {
   "cell_type": "code",
   "execution_count": 48,
   "id": "921dda20",
   "metadata": {},
   "outputs": [
    {
     "data": {
      "text/plain": [
       "(5,)"
      ]
     },
     "execution_count": 48,
     "metadata": {},
     "output_type": "execute_result"
    }
   ],
   "source": [
    "arr.shape # shows num of rows & columns"
   ]
  },
  {
   "cell_type": "code",
   "execution_count": 49,
   "id": "2f44970a",
   "metadata": {},
   "outputs": [
    {
     "data": {
      "text/plain": [
       "array([[1, 2, 3, 4, 5],\n",
       "       [2, 3, 4, 5, 6],\n",
       "       [9, 7, 6, 8, 9]])"
      ]
     },
     "execution_count": 49,
     "metadata": {},
     "output_type": "execute_result"
    }
   ],
   "source": [
    "## Multinested array\n",
    "my_lst1 = [1, 2, 3, 4, 5]\n",
    "my_lst2 = [2, 3, 4, 5, 6]\n",
    "my_lst3 = [9, 7, 6, 8, 9]\n",
    "\n",
    "arr = np.array([my_lst1, my_lst2, my_lst3])\n",
    "\n",
    "arr"
   ]
  },
  {
   "cell_type": "code",
   "execution_count": 50,
   "id": "59bd23fe",
   "metadata": {},
   "outputs": [
    {
     "data": {
      "text/plain": [
       "(3, 5)"
      ]
     },
     "execution_count": 50,
     "metadata": {},
     "output_type": "execute_result"
    }
   ],
   "source": [
    "arr.shape # two dimentional, 2 brackets [[...]]"
   ]
  },
  {
   "cell_type": "code",
   "execution_count": 51,
   "id": "b3bd68d5",
   "metadata": {},
   "outputs": [
    {
     "data": {
      "text/plain": [
       "array([[1, 2, 3],\n",
       "       [4, 5, 2],\n",
       "       [3, 4, 5],\n",
       "       [6, 9, 7],\n",
       "       [6, 8, 9]])"
      ]
     },
     "execution_count": 51,
     "metadata": {},
     "output_type": "execute_result"
    }
   ],
   "source": [
    "arr.reshape(5, 3) # change shape of array"
   ]
  },
  {
   "cell_type": "markdown",
   "id": "6cd7d638",
   "metadata": {},
   "source": [
    "# Indexing"
   ]
  },
  {
   "cell_type": "code",
   "execution_count": 52,
   "id": "d23fa1ab",
   "metadata": {},
   "outputs": [
    {
     "data": {
      "text/plain": [
       "np.int64(4)"
      ]
     },
     "execution_count": 52,
     "metadata": {},
     "output_type": "execute_result"
    }
   ],
   "source": [
    "## Accessing the elements\n",
    "arr_index = np.array([1, 2, 3, 4, 5])\n",
    "arr_index[3]"
   ]
  },
  {
   "cell_type": "code",
   "execution_count": null,
   "id": "2a4edf4d",
   "metadata": {},
   "outputs": [
    {
     "data": {
      "text/plain": [
       "array([2, 3])"
      ]
     },
     "execution_count": 54,
     "metadata": {},
     "output_type": "execute_result"
    }
   ],
   "source": [
    "## Splicing - One dimentional\n",
    "arr_index[1:3] # start at index 1, stop at excluding index 3"
   ]
  },
  {
   "cell_type": "code",
   "execution_count": null,
   "id": "4a9cbae8",
   "metadata": {},
   "outputs": [
    {
     "data": {
      "text/plain": [
       "array([[2, 3, 4, 5, 6],\n",
       "       [9, 7, 6, 8, 9]])"
      ]
     },
     "execution_count": 55,
     "metadata": {},
     "output_type": "execute_result"
    }
   ],
   "source": [
    "## Splicing - Two dimentional\n",
    "arr[1:3] # indexes at specific rows, starts at index row 1, ends at excluding row 3"
   ]
  },
  {
   "cell_type": "code",
   "execution_count": 56,
   "id": "9f5ad5e8",
   "metadata": {},
   "outputs": [
    {
     "data": {
      "text/plain": [
       "array([[1, 2],\n",
       "       [2, 3]])"
      ]
     },
     "execution_count": 56,
     "metadata": {},
     "output_type": "execute_result"
    }
   ],
   "source": [
    "## Another example\n",
    "arr[0:2, 0:2] # indexes specific rows AND specific columns, starting at 0 and ends excluding index 2"
   ]
  },
  {
   "cell_type": "code",
   "execution_count": null,
   "id": "180f27f3",
   "metadata": {},
   "outputs": [
    {
     "data": {
      "text/plain": [
       "array([0, 2, 4, 6, 8])"
      ]
     },
     "execution_count": 59,
     "metadata": {},
     "output_type": "execute_result"
    }
   ],
   "source": [
    "## Arange - similar to range but returns Numpy array instead of list\n",
    "arr = np.arange(0, 10, step=2)\n",
    "arr"
   ]
  },
  {
   "cell_type": "code",
   "execution_count": 60,
   "id": "caab5ff0",
   "metadata": {},
   "outputs": [
    {
     "data": {
      "text/plain": [
       "array([ 1.        ,  1.18367347,  1.36734694,  1.55102041,  1.73469388,\n",
       "        1.91836735,  2.10204082,  2.28571429,  2.46938776,  2.65306122,\n",
       "        2.83673469,  3.02040816,  3.20408163,  3.3877551 ,  3.57142857,\n",
       "        3.75510204,  3.93877551,  4.12244898,  4.30612245,  4.48979592,\n",
       "        4.67346939,  4.85714286,  5.04081633,  5.2244898 ,  5.40816327,\n",
       "        5.59183673,  5.7755102 ,  5.95918367,  6.14285714,  6.32653061,\n",
       "        6.51020408,  6.69387755,  6.87755102,  7.06122449,  7.24489796,\n",
       "        7.42857143,  7.6122449 ,  7.79591837,  7.97959184,  8.16326531,\n",
       "        8.34693878,  8.53061224,  8.71428571,  8.89795918,  9.08163265,\n",
       "        9.26530612,  9.44897959,  9.63265306,  9.81632653, 10.        ])"
      ]
     },
     "execution_count": 60,
     "metadata": {},
     "output_type": "execute_result"
    }
   ],
   "source": [
    "## Linspace - similar to arange but returns sequences of numbers\n",
    "np.linspace(1, 10, 50)"
   ]
  },
  {
   "cell_type": "code",
   "execution_count": 62,
   "id": "a70243b7",
   "metadata": {},
   "outputs": [
    {
     "data": {
      "text/plain": [
       "array([0])"
      ]
     },
     "execution_count": 62,
     "metadata": {},
     "output_type": "execute_result"
    }
   ],
   "source": [
    "## Conditionals\n",
    "val = 2\n",
    "arr [arr< 2] # returns all values greater than 2"
   ]
  },
  {
   "cell_type": "code",
   "execution_count": 63,
   "id": "8f2599f4",
   "metadata": {},
   "outputs": [
    {
     "data": {
      "text/plain": [
       "array([[1., 1., 1., 1., 1.],\n",
       "       [1., 1., 1., 1., 1.]])"
      ]
     },
     "execution_count": 63,
     "metadata": {},
     "output_type": "execute_result"
    }
   ],
   "source": [
    "## Ones - create array of specified shape and data type\n",
    "np.ones((2, 5), dtype=float)"
   ]
  },
  {
   "cell_type": "code",
   "execution_count": 64,
   "id": "be7481d3",
   "metadata": {},
   "outputs": [
    {
     "data": {
      "text/plain": [
       "array([[0.53739673, 0.88758833, 0.88345557],\n",
       "       [0.45942358, 0.50181303, 0.94894638],\n",
       "       [0.98676938, 0.07612986, 0.24927245]])"
      ]
     },
     "execution_count": 64,
     "metadata": {},
     "output_type": "execute_result"
    }
   ],
   "source": [
    "## Random Distribution\n",
    "np.random.rand(3, 3)"
   ]
  },
  {
   "cell_type": "code",
   "execution_count": null,
   "id": "6ff363dc",
   "metadata": {},
   "outputs": [],
   "source": [
    "## Examples\n",
    "import random\n",
    "salary_list = [random.randint(50000, 100000) for _ in range(1_000_000)]"
   ]
  },
  {
   "cell_type": "code",
   "execution_count": 7,
   "id": "37eee5ae",
   "metadata": {},
   "outputs": [],
   "source": [
    "import statistics"
   ]
  },
  {
   "cell_type": "code",
   "execution_count": 15,
   "id": "77f2d9cd",
   "metadata": {},
   "outputs": [
    {
     "name": "stdout",
     "output_type": "stream",
     "text": [
      "278 ms ± 29.5 ms per loop (mean ± std. dev. of 7 runs, 1 loop each)\n"
     ]
    }
   ],
   "source": [
    "%%timeit\n",
    "statistics.median(salary_list)"
   ]
  },
  {
   "cell_type": "code",
   "execution_count": 12,
   "id": "c8c3af6e",
   "metadata": {},
   "outputs": [],
   "source": [
    "import numpy as np"
   ]
  },
  {
   "cell_type": "code",
   "execution_count": 14,
   "id": "7551a1fc",
   "metadata": {},
   "outputs": [
    {
     "name": "stdout",
     "output_type": "stream",
     "text": [
      "51.4 ms ± 448 μs per loop (mean ± std. dev. of 7 runs, 10 loops each)\n"
     ]
    }
   ],
   "source": [
    "%%timeit\n",
    "np.median(salary_list)"
   ]
  },
  {
   "cell_type": "code",
   "execution_count": 16,
   "id": "cbb46b8b",
   "metadata": {},
   "outputs": [],
   "source": [
    "job_titles = np.array(['Data Scientist', 'Data Engineer', 'Data Analyst', 'Data Architect', 'Data Engineer', 'Data Scientist', 'Data Analyst', 'Data Architect', 'Data Engineer', 'Data Scientist'])\n",
    "base_salaries = np.array([100000, 120000, 80000, 150000, 110000, 100000, 80000, 150000, 110000, 100000])\n",
    "bonus_rates = np.array([0.1, 0.15, 0.05, 0.2, 0.1, 0.1, 0.05, 0.2, 0.1, 0.1])"
   ]
  },
  {
   "cell_type": "code",
   "execution_count": 17,
   "id": "5501e045",
   "metadata": {},
   "outputs": [
    {
     "data": {
      "text/plain": [
       "array([110000., 138000.,  84000., 180000., 121000., 110000.,  84000.,\n",
       "       180000., 121000., 110000.])"
      ]
     },
     "execution_count": 17,
     "metadata": {},
     "output_type": "execute_result"
    }
   ],
   "source": [
    "total_salaries = base_salaries + (base_salaries * bonus_rates)\n",
    "total_salaries"
   ]
  },
  {
   "cell_type": "code",
   "execution_count": 18,
   "id": "ed88a37c",
   "metadata": {},
   "outputs": [
    {
     "data": {
      "text/plain": [
       "np.float64(123800.0)"
      ]
     },
     "execution_count": 18,
     "metadata": {},
     "output_type": "execute_result"
    }
   ],
   "source": [
    "np.mean(total_salaries)"
   ]
  }
 ],
 "metadata": {
  "kernelspec": {
   "display_name": ".venv (3.13.3)",
   "language": "python",
   "name": "python3"
  },
  "language_info": {
   "codemirror_mode": {
    "name": "ipython",
    "version": 3
   },
   "file_extension": ".py",
   "mimetype": "text/x-python",
   "name": "python",
   "nbconvert_exporter": "python",
   "pygments_lexer": "ipython3",
   "version": "3.13.3"
  }
 },
 "nbformat": 4,
 "nbformat_minor": 5
}
