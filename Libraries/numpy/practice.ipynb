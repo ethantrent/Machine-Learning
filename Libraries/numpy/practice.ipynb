{
 "cells": [
  {
   "cell_type": "markdown",
   "id": "52b0dd67",
   "metadata": {},
   "source": [
    "## Problem: Dealer Sales Analysis with NumPy"
   ]
  },
  {
   "cell_type": "markdown",
   "id": "565cfab0",
   "metadata": {},
   "source": [
    "### You are analyzing monthly sales data from a dealership. The dataset shows how many units of each product category were sold over 6 months."
   ]
  },
  {
   "cell_type": "code",
   "execution_count": 1,
   "id": "4c65b0d0",
   "metadata": {},
   "outputs": [],
   "source": [
    "import numpy as np\n",
    "\n",
    "# Rows = Product categories (ATVs, Motorcycles, Side-by-Sides, Personal Watercraft)\n",
    "# Columns = Months (Jan → Jun)\n",
    "sales = np.array([\n",
    "    [15, 18, 20, 22, 25, 28],   # ATVs\n",
    "    [10, 12, 13, 15, 18, 20],   # Motorcycles\n",
    "    [8,  9,  11, 14, 16, 19],   # Side-by-Sides\n",
    "    [5,  7,  9,  12, 14, 16]    # PWCs\n",
    "])"
   ]
  },
  {
   "cell_type": "markdown",
   "id": "de7514ed",
   "metadata": {},
   "source": [
    "### Tasks:\n",
    "\n",
    "Slice out March data (all product categories, column for March).\n",
    "\n",
    "Find total sales per product category (sum along months).\n",
    "\n",
    "Find total sales per month (sum along categories).\n",
    "\n",
    "Calculate the average monthly sales for Motorcycles.\n",
    "\n",
    "Which category sold the most overall? (return both name + total units).\n",
    "\n",
    "Apply a 10% growth projection for July (broadcast a multiplier).\n",
    "\n",
    "Find the month with the highest overall sales."
   ]
  },
  {
   "cell_type": "code",
   "execution_count": 4,
   "id": "f56c8de0",
   "metadata": {},
   "outputs": [
    {
     "name": "stdout",
     "output_type": "stream",
     "text": [
      "[20 13 11  9]\n"
     ]
    }
   ],
   "source": [
    "march_data = sales[:, 2]\n",
    "print(march_data)"
   ]
  },
  {
   "cell_type": "code",
   "execution_count": 6,
   "id": "2a802c28",
   "metadata": {},
   "outputs": [
    {
     "name": "stdout",
     "output_type": "stream",
     "text": [
      "[128  88  77  63]\n"
     ]
    }
   ],
   "source": [
    "total_sales_per_category = np.sum(sales, axis=1)\n",
    "print(total_sales_per_category)"
   ]
  },
  {
   "cell_type": "code",
   "execution_count": 7,
   "id": "4e840471",
   "metadata": {},
   "outputs": [
    {
     "name": "stdout",
     "output_type": "stream",
     "text": [
      "[38 46 53 63 73 83]\n"
     ]
    }
   ],
   "source": [
    "total_sales_per_month = np.sum(sales, axis=0)\n",
    "print(total_sales_per_month)"
   ]
  },
  {
   "cell_type": "code",
   "execution_count": 8,
   "id": "744d1ef0",
   "metadata": {},
   "outputs": [
    {
     "name": "stdout",
     "output_type": "stream",
     "text": [
      "14.666666666666666\n"
     ]
    }
   ],
   "source": [
    "average_motorcycle_sales = np.mean(sales[1, :])\n",
    "print(average_motorcycle_sales)"
   ]
  },
  {
   "cell_type": "code",
   "execution_count": 10,
   "id": "567f801b",
   "metadata": {},
   "outputs": [
    {
     "name": "stdout",
     "output_type": "stream",
     "text": [
      "ATVs 128\n"
     ]
    }
   ],
   "source": [
    "most_sales_index = np.argmax(total_sales_per_category)\n",
    "categories = [\"ATVs\", \"Motorcycles\", \"Side-by-Sides\", \"PWCs\"]\n",
    "most_sales_categories = categories[most_sales_index]\n",
    "print(most_sales_categories, total_sales_per_category[most_sales_index])"
   ]
  },
  {
   "cell_type": "code",
   "execution_count": 11,
   "id": "58b3c272",
   "metadata": {},
   "outputs": [
    {
     "name": "stdout",
     "output_type": "stream",
     "text": [
      "[[16.5 19.8 22.  24.2 27.5 30.8]\n",
      " [11.  13.2 14.3 16.5 19.8 22. ]\n",
      " [ 8.8  9.9 12.1 15.4 17.6 20.9]\n",
      " [ 5.5  7.7  9.9 13.2 15.4 17.6]]\n"
     ]
    }
   ],
   "source": [
    "july_projection = sales * 1.10\n",
    "print(july_projection)"
   ]
  },
  {
   "cell_type": "code",
   "execution_count": 12,
   "id": "83402c0d",
   "metadata": {},
   "outputs": [
    {
     "name": "stdout",
     "output_type": "stream",
     "text": [
      "Jun 83\n"
     ]
    }
   ],
   "source": [
    "highest_sales_month_index = np.argmax(total_sales_per_month)\n",
    "months = [\"Jan\", \"Feb\", \"Mar\", \"Apr\", \"May\", \"Jun\"]\n",
    "highest_sales_month = months[highest_sales_month_index]\n",
    "print(highest_sales_month, total_sales_per_month[highest_sales_month_index])"
   ]
  }
 ],
 "metadata": {
  "kernelspec": {
   "display_name": ".venv (3.13.3)",
   "language": "python",
   "name": "python3"
  },
  "language_info": {
   "codemirror_mode": {
    "name": "ipython",
    "version": 3
   },
   "file_extension": ".py",
   "mimetype": "text/x-python",
   "name": "python",
   "nbconvert_exporter": "python",
   "pygments_lexer": "ipython3",
   "version": "3.13.3"
  }
 },
 "nbformat": 4,
 "nbformat_minor": 5
}
